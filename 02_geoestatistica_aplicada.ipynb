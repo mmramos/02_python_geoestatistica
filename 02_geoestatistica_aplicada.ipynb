{
 "cells": [
  {
   "cell_type": "markdown",
   "metadata": {},
   "source": [
    "<center><font face=\"Times New ROman\" size=\"8\" color=\"#000080\">- Geoestatística Aplicada - Edward H. Isaaks -</font></center>\n",
    "<br>\n",
    "<br><center><font face=\"Times New ROman\" size=\"6\" color=\"#000000\">- Descrição Bivariada -</font></center>"
   ]
  },
  {
   "cell_type": "code",
   "execution_count": 1,
   "metadata": {
    "collapsed": true
   },
   "outputs": [],
   "source": [
    "%matplotlib inline\n",
    "import numpy as np\n",
    "import scipy.stats as scs\n",
    "import scipy.stats.mstats as scsms\n",
    "import matplotlib.pyplot as plt"
   ]
  },
  {
   "cell_type": "code",
   "execution_count": 2,
   "metadata": {
    "collapsed": false
   },
   "outputs": [
    {
     "name": "stdout",
     "output_type": "stream",
     "text": [
      "[  81.   77.  103.  112.  123.   19.   40.  111.  114.  120.   82.   61.\n",
      "  110.  121.  119.   77.   52.  111.  117.  124.   82.   74.   97.  105.\n",
      "  112.   91.   73.  115.  118.  129.   88.   70.  103.  111.  122.   64.\n",
      "   84.  105.  113.  123.   89.   88.   94.  110.  116.  108.   73.  107.\n",
      "  118.  127.   77.   82.   86.  101.  109.  113.   79.  102.  120.  121.\n",
      "   74.   80.   85.   90.   97.  101.   96.   72.  128.  130.   75.   80.\n",
      "   83.   87.   94.   99.   95.   48.  139.  145.   77.   84.   74.  108.\n",
      "  121.  143.   91.   52.  136.  144.   87.  100.   47.  111.  124.  109.\n",
      "    0.   98.  134.  144.]\n",
      "100\n"
     ]
    }
   ],
   "source": [
    "dado_v = np.array([[81,77,103,112,123,19,40,111,114,120],[82,61,110,121,119,77,52,111,117,124],[82,74,97,105,112,91,73,115,118,129],[88,70,103,111,122,64,84,105,113,123],[89,88,94,110,116,108,73,107,118,127],[77,82,86,101,109,113,79,102,120,121],[74,80,85,90,97,101,96,72,128,130],[75,80,83,87,94,99,95,48,139,145],[77,84,74,108,121,143,91,52,136,144],[87,100,47,111,124,109,0,98,134,144]],float)\n",
    "\n",
    "v = np.reshape(dado_v,(1,100))\n",
    "V = np.squeeze(v)\n",
    "\n",
    "print V\n",
    "print len(V)"
   ]
  },
  {
   "cell_type": "code",
   "execution_count": 3,
   "metadata": {
    "collapsed": false
   },
   "outputs": [
    {
     "name": "stdout",
     "output_type": "stream",
     "text": [
      "[ 15.  12.  24.  27.  30.   0.   2.  18.  18.  18.  16.   7.  34.  36.  29.\n",
      "   7.   4.  18.  18.  20.  16.   9.  22.  24.  25.  10.   7.  19.  19.  22.\n",
      "  21.   8.  27.  27.  32.   4.  10.  15.  17.  19.  21.  18.  20.  27.  29.\n",
      "  19.   7.  16.  19.  22.  15.  16.  16.  23.  24.  25.   7.  15.  21.  20.\n",
      "  14.  15.  15.  16.  17.  18.  14.   6.  28.  25.  14.  15.  15.  15.  16.\n",
      "  17.  13.   2.  40.  38.  16.  17.  11.  29.  37.  55.  11.   3.  34.  35.\n",
      "  22.  28.   4.  32.  38.  20.   0.  14.  31.  34.]\n",
      "100\n"
     ]
    }
   ],
   "source": [
    "dado_u = np.array([[15,12,24,27,30,0,2,18,18,18],[16,7,34,36,29,7,4,18,18,20],[16,9,22,24,25,10,7,19,19,22],[21,8,27,27,32,4,10,15,17,19],[21,18,20,27,29,19,7,16,19,22],[15,16,16,23,24,25,7,15,21,20],[14,15,15,16,17,18,14,6,28,25],[14,15,15,15,16,17,13,2,40,38],[16,17,11,29,37,55,11,3,34,35],[22,28,4,32,38,20,0,14,31,34]],float)\n",
    "\n",
    "u = np.reshape(dado_u,(1,100))\n",
    "U = np.squeeze(u)\n",
    "\n",
    "print U\n",
    "print len(U)"
   ]
  },
  {
   "cell_type": "code",
   "execution_count": 4,
   "metadata": {
    "collapsed": false
   },
   "outputs": [
    {
     "data": {
      "image/png": "[encoded data removed]",
      "text/plain": [
       "<matplotlib.figure.Figure at 0xadfa228c>"
      ]
     },
     "metadata": {},
     "output_type": "display_data"
    },
    {
     "data": {
      "image/png": "[encoded data removed]",
      "text/plain": [
       "<matplotlib.figure.Figure at 0xade6ddcc>"
      ]
     },
     "metadata": {},
     "output_type": "display_data"
    }
   ],
   "source": [
    "plt.hist(V, bins=(0,10,20,30,40,50,60,70,80,90,100,110,120,130,140,150))\n",
    "plt.show()\n",
    "\n",
    "plt.hist(U, bins=(0,5,10,15,20,25,30,35,40,45,50,55,60,65.70))\n",
    "plt.show()"
   ]
  },
  {
   "cell_type": "code",
   "execution_count": 5,
   "metadata": {
    "collapsed": false
   },
   "outputs": [
    {
     "data": {
      "image/png": "[encoded data removed]",
      "text/plain": [
       "<matplotlib.figure.Figure at 0xade98d6c>"
      ]
     },
     "metadata": {},
     "output_type": "display_data"
    }
   ],
   "source": [
    "Qv = [] #Quantile v\n",
    "Qu = [] #Quantile u\n",
    "\n",
    "for i in range (20):\n",
    "    qv0 = np.percentile(v, (5*i))\n",
    "    Qv.append(qv0)\n",
    "    qu0 = np.percentile(u, (5*i))\n",
    "    Qu.append(qu0) \n",
    "    \n",
    "mv = np.mean(V)\n",
    "mu = np.mean(U)\n",
    "\n",
    "sigv = np.std(V)\n",
    "sigu = np.std(U)\n",
    "    \n",
    "\n",
    "plt.plot(Qv,Qu,'+',)\n",
    "plt.plot(Qu,Qu,'--r')\n",
    "plt.show()\n",
    "\n",
    "# q-q plot -> Se fosse uma linha reta, significaria que possuem uma mesma distribuicao"
   ]
  },
  {
   "cell_type": "code",
   "execution_count": 6,
   "metadata": {
    "collapsed": false
   },
   "outputs": [
    {
     "data": {
      "image/png": "[encoded data removed]",
      "text/plain": [
       "<matplotlib.figure.Figure at 0xae14afac>"
      ]
     },
     "metadata": {},
     "output_type": "display_data"
    }
   ],
   "source": [
    "# Scatterplots\n",
    "\n",
    "plt.plot(V,U,'+',)\n",
    "plt.show()"
   ]
  },
  {
   "cell_type": "code",
   "execution_count": 7,
   "metadata": {
    "collapsed": false
   },
   "outputs": [
    {
     "name": "stdout",
     "output_type": "stream",
     "text": [
      "21609.5\n",
      "216.095 Covariancia\n",
      "0.839339452235 Correlacao\n",
      "(0.83933945223514494, 1.0900927192652422e-27) scipy - primeiro termo e a correlacao 0.839339452235\n"
     ]
    }
   ],
   "source": [
    "# correlacao:\n",
    "\n",
    "rho1 = []\n",
    "\n",
    "for i in range (len(V)):\n",
    "    rho0 = (V[i]-mv)*(U[i]-mu)\n",
    "    rho1.append(rho0)\n",
    "\n",
    "rho2 = sum(rho1)\n",
    "print rho2\n",
    "Cuv = rho2/(len(V))\n",
    "print Cuv,\"Covariancia\"\n",
    "rho4 = Cuv/(sigv*sigu)\n",
    "print rho4,\"Correlacao\"\n",
    "\n",
    "rho5 = scs.pearsonr(U,V)\n",
    "print rho5,\"scipy - primeiro termo e a correlacao\",rho5[0]\n"
   ]
  },
  {
   "cell_type": "code",
   "execution_count": 8,
   "metadata": {
    "collapsed": false
   },
   "outputs": [
    {
     "name": "stdout",
     "output_type": "stream",
     "text": [
      "(0.85766042616898441, 4.5990023956500879e-30) Rank correlation, resultado é de  0.857660426169\n"
     ]
    }
   ],
   "source": [
    "# Rank correlation \n",
    "\n",
    "rhor = scs.spearmanr(U,V)\n",
    "print rhor,\"Rank correlation, resultado é de \",rhor[0] "
   ]
  },
  {
   "cell_type": "code",
   "execution_count": 9,
   "metadata": {
    "collapsed": false
   },
   "outputs": [
    {
     "name": "stdout",
     "output_type": "stream",
     "text": [
      "[1, 2, 3, 4, 7, 9]\n",
      "[0, 2, 5, 6, 7, 9]\n",
      "5 9 0 9 | 5 9\n",
      "1 2 1 2 | 1 6\n",
      "3 4 2 7 | 3 7\n",
      "4 7 3 3 | 4 0\n",
      "2 3 4 4 | 2 2\n",
      "0 1 5 1 | 0 5\n"
     ]
    }
   ],
   "source": [
    "ddd = [9,2,7,3,4,1]\n",
    "eee = [5,6,2,7,0,9]\n",
    "\n",
    "\n",
    "dd = sorted(ddd)\n",
    "ee = sorted(eee)\n",
    "print dd\n",
    "print ee\n",
    "\n",
    "for i in range (len(ddd)):\n",
    "    for j in range (len(ddd)):\n",
    "        if ddd[j] == dd[i]:\n",
    "            print j, dd[j],i,ddd[i],\"|\",j,eee[j]\n",
    "\n"
   ]
  },
  {
   "cell_type": "code",
   "execution_count": 10,
   "metadata": {
    "collapsed": false
   },
   "outputs": [
    {
     "name": "stdout",
     "output_type": "stream",
     "text": [
      "[0, 1, 2, 3, 4, 5, 5, 6, 6, 7, 8, 9, 10, 11, 11, 12, 12, 13, 13, 13, 14, 14, 14, 15, 15, 15, 16, 17, 17, 17, 17, 18, 18, 18, 18, 19, 19, 19, 19, 20, 20, 20, 20, 21, 22, 22, 23, 23, 24, 25, 25, 25, 26, 26, 26, 27, 27, 27, 28, 29, 29, 30, 30, 31, 32, 33, 33, 34, 34, 35, 35, 36, 36, 37, 38, 39, 39, 40, 40, 41, 41, 42, 42, 43, 44, 45, 45, 46, 46, 47, 48, 49, 50, 50, 51, 51, 52, 53, 53, 54, 54, 55, 55, 56, 56, 57, 58, 58, 59, 59, 60, 60, 61, 61, 62, 62, 63, 63, 64, 64, 64, 64, 65, 65, 65, 65, 66, 66, 66, 66, 67, 67, 67, 67, 68, 68, 69, 69, 70, 70, 71, 71, 72, 73, 74, 75, 76, 76, 77, 77, 78, 79, 79, 80, 80, 81, 81, 81, 82, 82, 82, 83, 83, 83, 84, 85, 85, 86, 86, 87, 87, 88, 88, 89, 90, 91, 92, 93, 94, 95, 96, 97, 97, 98, 98, 99]\n",
      "[96, 5, 6, 92, 77, 16, 87, 16, 87, 11, 35, 31, 67, 26, 46, 26, 46, 21, 60, 82, 21, 60, 82, 21, 60, 82, 70, 1, 15, 50, 80, 1, 15, 50, 80, 1, 15, 50, 80, 1, 15, 50, 80, 56, 61, 71, 61, 71, 0, 10, 20, 51, 10, 20, 51, 10, 20, 51, 72, 36, 81, 36, 81, 62, 52, 73, 90, 73, 90, 30, 41, 30, 41, 40, 63, 25, 86, 25, 86, 42, 74, 42, 74, 76, 66, 22, 64, 22, 64, 97, 75, 91, 53, 65, 53, 65, 57, 2, 32, 2, 32, 23, 37, 23, 37, 47, 45, 83, 45, 83, 54, 95, 54, 95, 12, 43, 12, 43, 7, 17, 33, 93, 7, 17, 33, 93, 7, 17, 33, 93, 7, 17, 33, 93, 3, 24, 3, 24, 38, 55, 38, 55, 8, 27, 44, 18, 28, 48, 28, 48, 14, 9, 58, 9, 58, 13, 59, 84, 13, 59, 84, 13, 59, 84, 34, 4, 39, 4, 39, 19, 94, 19, 94, 49, 68, 29, 69, 98, 88, 78, 85, 89, 99, 89, 99, 79]\n"
     ]
    }
   ],
   "source": [
    "SU = sorted(U)\n",
    "SV = sorted(V)\n",
    "\n",
    "RU = []\n",
    "RV = []\n",
    "\n",
    "for i in range (len(V)):\n",
    "    for j in range (len(V)):\n",
    "        if V[j] == SV[i]:\n",
    "            RV.append(i)\n",
    "            RU.append(j)\n",
    "\n",
    "print RV\n",
    "print RU"
   ]
  },
  {
   "cell_type": "code",
   "execution_count": 11,
   "metadata": {
    "collapsed": false
   },
   "outputs": [
    {
     "name": "stdout",
     "output_type": "stream",
     "text": [
      "27.5436944624\n",
      "29.1888786142\n",
      "1484.40027749\n",
      "14.8440027749\n",
      "0.0184633891874\n"
     ]
    }
   ],
   "source": [
    "rhor1 = []\n",
    "mrv = np.mean(RV)\n",
    "mru = np.mean(RU)\n",
    "\n",
    "sigrv = np.std(RV)\n",
    "print sigrv\n",
    "sigru = np.std(RU)\n",
    "print sigru\n",
    "\n",
    "for i in range (len(V)):\n",
    "    rhor0 = (RV[i] - mrv)*(RU[i] - mru)\n",
    "    rhor1.append(rhor0)\n",
    "    \n",
    "rhor2 = sum(rhor1)\n",
    "print rhor2\n",
    "rhor3 = rhor2/(len(V))\n",
    "print rhor3\n",
    "rhor4 = rhor3/(sigrv*sigru)\n",
    "print rhor4"
   ]
  },
  {
   "cell_type": "markdown",
   "metadata": {
    "collapsed": true
   },
   "source": [
    "<br><center><font face=\"Times New ROman\" size=\"4\" color=\"#000000\">- Regressão Linear -</font></center>"
   ]
  },
  {
   "cell_type": "code",
   "execution_count": 16,
   "metadata": {
    "collapsed": false
   },
   "outputs": [
    {
     "name": "stdout",
     "output_type": "stream",
     "text": [
      "0.313914764577\n",
      "-11.5223852845\n",
      "[ 13.90471065  12.64905159  20.81083547  23.63606835  27.08913076\n",
      "  -5.55800476   1.0342053   23.32215358  24.26389788  26.14738646\n",
      "  14.21862541   7.62641535  23.00823882  26.46130123  25.8334717\n",
      "  12.64905159   4.80118247  23.32215358  25.20564217  27.40304552\n",
      "  14.21862541  11.70730729  18.92734688  21.438665    23.63606835\n",
      "  17.04385829  11.39339253  24.57781264  25.51955694  28.97261935\n",
      "  16.102114    10.45164824  20.81083547  23.32215358  26.77521599\n",
      "   8.56815965  14.84645494  21.438665    23.94998311  27.08913076\n",
      "  16.41602876  16.102114    17.98560259  23.00823882  24.89172741\n",
      "  22.38040929  11.39339253  22.06649453  25.51955694  28.34478982\n",
      "  12.64905159  14.21862541  15.47428447  20.18300594  22.69432405\n",
      "  23.94998311  13.27688112  20.4969207   26.14738646  26.46130123\n",
      "  11.70730729  13.59079588  15.1603697   16.72994353  18.92734688\n",
      "  20.18300594  18.61343211  11.07947777  28.65870458  29.28653411\n",
      "  12.02122206  13.59079588  14.53254018  15.78819923  17.98560259\n",
      "  19.55517641  18.29951735   3.54552342  32.11176699  33.99525558\n",
      "  12.64905159  14.84645494  11.70730729  22.38040929  26.46130123\n",
      "  33.36742605  17.04385829   4.80118247  31.1700227   33.68134081\n",
      "  15.78819923  19.86909117   3.23160865  23.32215358  27.40304552\n",
      "  22.69432405 -11.52238528  19.24126164  30.54219317  33.68134081]\n"
     ]
    }
   ],
   "source": [
    "# u = av + b | onde a = rho5[0]*(sigu/sigv) | e b = mu - a*mv\n",
    "\n",
    "a = rho5[0]*(sigu/sigv)\n",
    "print a\n",
    "\n",
    "b = mu - (a*mv)\n",
    "print b\n",
    "\n",
    "yu = (a*V)+b\n",
    "print yu"
   ]
  },
  {
   "cell_type": "code",
   "execution_count": 18,
   "metadata": {
    "collapsed": false
   },
   "outputs": [
    {
     "data": {
      "image/png": "[encoded data removed]",
      "text/plain": [
       "<matplotlib.figure.Figure at 0xadc7e46c>"
      ]
     },
     "metadata": {},
     "output_type": "display_data"
    }
   ],
   "source": [
    "plt.plot(V,U,'+',) # scatterplot\n",
    "plt.plot(V,yu)     # valores de U inferidos em função de V, mu e mv, sigu e sigv e por fim rho5\n",
    "plt.show()"
   ]
  },
  {
   "cell_type": "markdown",
   "metadata": {
    "collapsed": true
   },
   "source": [
    "<br><center><font face=\"Times New ROman\" size=\"4\" color=\"#000000\">- Expectativa Condicional -</font></center>"
   ]
  },
  {
   "cell_type": "code",
   "execution_count": 24,
   "metadata": {
    "collapsed": false
   },
   "outputs": [
    {
     "name": "stdout",
     "output_type": "stream",
     "text": [
      "0.0 | 19.0\n",
      "2.0 | 40.0\n",
      "4.0 | 52.0\n",
      "4.0 | 64.0\n",
      "2.0 | 48.0\n",
      "3.0 | 52.0\n",
      "4.0 | 47.0\n",
      "0.0 | 0.0\n",
      "[19.0, 40.0, 52.0, 64.0, 48.0, 52.0, 47.0, 0.0]\n",
      "40.25\n"
     ]
    }
   ],
   "source": [
    "MV00 = []\n",
    "\n",
    "for i in range (len(U)):\n",
    "    if U[i] <= 5:\n",
    "        print U[i],\"|\",V[i]\n",
    "        MV00.append(V[i])\n",
    "        \n",
    "print MV00\n",
    "MV00 = np.mean(MV00)\n",
    "print MV00\n",
    "\n",
    "# logo para 0 < U < 5, da média de valores desse intervalo, "
   ]
  },
  {
   "cell_type": "code",
   "execution_count": null,
   "metadata": {
    "collapsed": true
   },
   "outputs": [],
   "source": []
  }
 ],
 "metadata": {
  "kernelspec": {
   "display_name": "Python 2",
   "language": "python",
   "name": "python2"
  },
  "language_info": {
   "codemirror_mode": {
    "name": "ipython",
    "version": 2
   },
   "file_extension": ".py",
   "mimetype": "text/x-python",
   "name": "python",
   "nbconvert_exporter": "python",
   "pygments_lexer": "ipython2",
   "version": "2.7.9"
  }
 },
 "nbformat": 4,
 "nbformat_minor": 0
}
