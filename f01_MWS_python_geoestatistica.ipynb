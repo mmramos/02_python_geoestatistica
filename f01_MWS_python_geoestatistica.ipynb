{
 "cells": [
  {
   "cell_type": "code",
   "execution_count": 81,
   "metadata": {
    "collapsed": false
   },
   "outputs": [],
   "source": [
    "#\n",
    "\n",
    "# Janela Movel (Moving Windows Statistics)\n",
    "\n",
    "#"
   ]
  },
  {
   "cell_type": "code",
   "execution_count": 1,
   "metadata": {
    "collapsed": true
   },
   "outputs": [],
   "source": [
    "%matplotlib inline\n",
    "import numpy as np\n",
    "import matplotlib.pyplot as plt"
   ]
  },
  {
   "cell_type": "code",
   "execution_count": 62,
   "metadata": {
    "collapsed": false
   },
   "outputs": [
    {
     "name": "stdout",
     "output_type": "stream",
     "text": [
      "[[  81.   77.  103.  112.  123.   19.   40.  111.  114.  120.]\n",
      " [  82.   61.  110.  121.  119.   77.   52.  111.  117.  124.]\n",
      " [  82.   74.   97.  105.  112.   91.   73.  115.  118.  129.]\n",
      " [  88.   70.  103.  111.  122.   64.   84.  105.  113.  123.]\n",
      " [  89.   88.   94.  110.  116.  108.   73.  107.  118.  127.]\n",
      " [  77.   82.   86.  101.  109.  113.   79.  102.  120.  121.]\n",
      " [  74.   80.   85.   90.   97.  101.   96.   72.  128.  130.]\n",
      " [  75.   80.   83.   87.   94.   99.   95.   48.  139.  145.]\n",
      " [  77.   84.   74.  108.  121.  143.   91.   52.  136.  144.]\n",
      " [  87.  100.   47.  111.  124.  109.    0.   98.  134.  144.]]\n",
      "\n",
      "77.0\n"
     ]
    }
   ],
   "source": [
    "dado_v = np.array([[81,77,103,112,123,19,40,111,114,120],[82,61,110,121,119,77,52,111,117,124],[82,74,97,105,112,91,73,115,118,129],[88,70,103,111,122,64,84,105,113,123],[89,88,94,110,116,108,73,107,118,127],[77,82,86,101,109,113,79,102,120,121],[74,80,85,90,97,101,96,72,128,130],[75,80,83,87,94,99,95,48,139,145],[77,84,74,108,121,143,91,52,136,144],[87,100,47,111,124,109,0,98,134,144]],float)\n",
    "\n",
    "v = np.reshape(dado_v,(1,100))\n",
    "V = np.squeeze(v)\n",
    "\n",
    "\n",
    "\n",
    "print dado_v\n",
    "print \"\"\n",
    "print dado_v[0,1]\n",
    "\n"
   ]
  },
  {
   "cell_type": "code",
   "execution_count": 10,
   "metadata": {
    "collapsed": false
   },
   "outputs": [
    {
     "name": "stdout",
     "output_type": "stream",
     "text": [
      "4 valor do eixo x\n",
      "9 valor do eixo y\n"
     ]
    }
   ],
   "source": [
    "# definindo valores:\n",
    "\n",
    "a  = 4 # a dimensao do retangulo em x\n",
    "b  = 2 # a dimensao do retangulo em y\n",
    "\n",
    "px = 2 # quanto anda o retangulo na direcao x\n",
    "py = 1 # quanto anda o retangulo na direcao y\n",
    "\n",
    "\n",
    "dim = dado_v.shape\n",
    "dim_x = dim[0] # valores do eixo x de v\n",
    "dim_y = dim[1] # valores do eixo y de v\n",
    "\n",
    "K = 1+(dim_x - a)/px\n",
    "L = 1+(dim_y - b)/py\n",
    "\n",
    "print K,\"valor do eixo x\" # define o loop k \n",
    "print L,\"valor do eixo y\" # define o loop l\n"
   ]
  },
  {
   "cell_type": "code",
   "execution_count": 77,
   "metadata": {
    "collapsed": false,
    "scrolled": true
   },
   "outputs": [
    {
     "name": "stdout",
     "output_type": "stream",
     "text": [
      "[[  93.375   98.      81.5     98.625]\n",
      " [  91.5    104.      93.75   104.875]\n",
      " [  91.25   100.625   95.75   107.5  ]\n",
      " [  94.125  103.5     97.375  106.25 ]\n",
      " [  90.875  104.625  100.875  105.875]\n",
      " [  84.375   97.75    96.125  106.   ]\n",
      " [  81.75    92.      87.75   106.625]\n",
      " [  83.5    101.125   92.875  106.25 ]\n",
      " [  86.     104.625   92.25    99.875]]\n"
     ]
    }
   ],
   "source": [
    "# programa MWS para médias\n",
    "rmv = np.array([[0]*K]*L,float)\n",
    "mv  = []\n",
    "\n",
    "\n",
    "for l in range (L):\n",
    "    for k in range (K):\n",
    "        for j in range (b):\n",
    "            for i in range (a):\n",
    "                \n",
    "                mv.append(dado_v[j+(l*py),i+(k*px)])\n",
    "        rmv[l,k] = np.mean(mv)\n",
    "        mv = []\n",
    "print \"medias\"\n",
    "print rmv"
   ]
  },
  {
   "cell_type": "code",
   "execution_count": 78,
   "metadata": {
    "collapsed": false
   },
   "outputs": [
    {
     "name": "stdout",
     "output_type": "stream",
     "text": [
      "[[ 19.61464695  27.16320754  31.79816447  31.72710789]\n",
      " [ 29.608107    27.94861356  27.2813899   27.29106979]\n",
      " [ 26.19475006  25.44135413  24.97191604  24.69331858]\n",
      " [ 23.99637662  23.62559894  23.38441433  23.17595737]\n",
      " [ 22.66766514  22.20879803  21.89861013  21.82698659]\n",
      " [ 21.57262345  21.17638486  20.89388302  20.96151194]\n",
      " [ 20.80542958  20.46337967  20.42783141  21.05571779]\n",
      " [ 20.92178286  20.93915624  21.28684867  22.06875928]\n",
      " [ 22.07555447  22.32830492  23.19347529  24.25382963]]\n"
     ]
    }
   ],
   "source": [
    "rstdv = np.array([[0]*K]*L,float)\n",
    "stdv  = []\n",
    "\n",
    "\n",
    "for l in range (L):\n",
    "    for k in range (K):\n",
    "        for j in range (b):\n",
    "            for i in range (a):\n",
    "                \n",
    "                mv.append(dado_v[j+(l*py),i+(k*px)])\n",
    "        rstdv[l,k] = np.std(mv)\n",
    "        stdv = []\n",
    "print \"desvio padrao\"\n",
    "print rstdv"
   ]
  },
  {
   "cell_type": "code",
   "execution_count": null,
   "metadata": {
    "collapsed": true
   },
   "outputs": [],
   "source": []
  }
 ],
 "metadata": {
  "kernelspec": {
   "display_name": "Python 2",
   "language": "python",
   "name": "python2"
  },
  "language_info": {
   "codemirror_mode": {
    "name": "ipython",
    "version": 2
   },
   "file_extension": ".py",
   "mimetype": "text/x-python",
   "name": "python",
   "nbconvert_exporter": "python",
   "pygments_lexer": "ipython2",
   "version": "2.7.9"
  }
 },
 "nbformat": 4,
 "nbformat_minor": 0
}
