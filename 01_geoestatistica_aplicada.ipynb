{
 "cells": [
  {
   "cell_type": "markdown",
   "metadata": {},
   "source": [
    "<center><font face=\"Times New ROman\" size=\"8\" color=\"#000080\">- Geoestatística Aplicada - Edward H. Isaaks -</font></center>\n",
    "<br>\n",
    "<br><center><font face=\"Times New ROman\" size=\"6\" color=\"#000000\">- Descrição Univariada -</font></center>"
   ]
  },
  {
   "cell_type": "code",
   "execution_count": 116,
   "metadata": {
    "collapsed": true
   },
   "outputs": [],
   "source": [
    "%matplotlib inline\n",
    "import numpy as np\n",
    "import scipy.stats as scs\n",
    "import scipy.stats.mstats as scsms\n",
    "import matplotlib.pyplot as plt"
   ]
  },
  {
   "cell_type": "code",
   "execution_count": 117,
   "metadata": {
    "collapsed": false
   },
   "outputs": [
    {
     "name": "stdout",
     "output_type": "stream",
     "text": [
      "[[  81.   77.  103.  112.  123.   19.   40.  111.  114.  120.]\n",
      " [  82.   61.  110.  121.  119.   77.   52.  111.  117.  124.]\n",
      " [  82.   74.   97.  105.  112.   91.   73.  115.  118.  129.]\n",
      " [  88.   70.  103.  111.  122.   64.   84.  105.  113.  123.]\n",
      " [  89.   88.   94.  110.  116.  108.   73.  107.  118.  127.]\n",
      " [  77.   82.   86.  101.  109.  113.   79.  102.  120.  121.]\n",
      " [  74.   80.   85.   90.   97.  101.   96.   72.  128.  130.]\n",
      " [  75.   80.   83.   87.   94.   99.   95.   48.  139.  145.]\n",
      " [  77.   84.   74.  108.  121.  143.   91.   52.  136.  144.]\n",
      " [  87.  100.   47.  111.  124.  109.    0.   98.  134.  144.]]\n"
     ]
    }
   ],
   "source": [
    "dado = np.array([[81,77,103,112,123,19,40,111,114,120],[82,61,110,121,119,77,52,111,117,124],[82,74,97,105,112,91,73,115,118,129],[88,70,103,111,122,64,84,105,113,123],[89,88,94,110,116,108,73,107,118,127],[77,82,86,101,109,113,79,102,120,121],[74,80,85,90,97,101,96,72,128,130],[75,80,83,87,94,99,95,48,139,145],[77,84,74,108,121,143,91,52,136,144],[87,100,47,111,124,109,0,98,134,144]],float)\n",
    "print dado"
   ]
  },
  {
   "cell_type": "code",
   "execution_count": 118,
   "metadata": {
    "collapsed": false
   },
   "outputs": [
    {
     "name": "stdout",
     "output_type": "stream",
     "text": [
      "[  81.   77.  103.  112.  123.   19.   40.  111.  114.  120.   82.   61.\n",
      "  110.  121.  119.   77.   52.  111.  117.  124.   82.   74.   97.  105.\n",
      "  112.   91.   73.  115.  118.  129.   88.   70.  103.  111.  122.   64.\n",
      "   84.  105.  113.  123.   89.   88.   94.  110.  116.  108.   73.  107.\n",
      "  118.  127.   77.   82.   86.  101.  109.  113.   79.  102.  120.  121.\n",
      "   74.   80.   85.   90.   97.  101.   96.   72.  128.  130.   75.   80.\n",
      "   83.   87.   94.   99.   95.   48.  139.  145.   77.   84.   74.  108.\n",
      "  121.  143.   91.   52.  136.  144.   87.  100.   47.  111.  124.  109.\n",
      "    0.   98.  134.  144.]\n",
      "100\n"
     ]
    }
   ],
   "source": [
    "dadol = np.reshape(dado,(1,100))\n",
    "dadol2 = np.squeeze(dadol)\n",
    "\n",
    "print dadol2\n",
    "print len(dadol2)"
   ]
  },
  {
   "cell_type": "code",
   "execution_count": 119,
   "metadata": {
    "collapsed": false
   },
   "outputs": [
    {
     "name": "stdout",
     "output_type": "stream",
     "text": [
      "[ 1  1  0  0  3  2  2 13 16 11 13 17 13  4  4] valores com comprimento 15\n",
      "[  0  10  20  30  40  50  60  70  80  90 100 110 120 130 140 150] intervalo das estimativas com comprimento 16\n",
      "valor total de 100 unidades que equivale a 100%\n",
      "\n",
      "logo o valor de h1[0] coincidentemente já está em %\n"
     ]
    },
    {
     "data": {
      "image/png": "[encoded data removed]",
      "text/plain": [
       "<matplotlib.figure.Figure at 0xadae5f8c>"
      ]
     },
     "metadata": {},
     "output_type": "display_data"
    }
   ],
   "source": [
    "h1 = np.histogram(dadol2, bins=(0,10,20,30,40,50,60,70,80,90,100,110,120,130,140,150))\n",
    "print h1[0],\"valores com comprimento\",len(h1[0])\n",
    "print h1[1],\"intervalo das estimativas com comprimento\",len(h1[1])\n",
    "\n",
    "total = sum(h1[0])\n",
    "print \"valor total de\",total,\"unidades que equivale a 100%\"\n",
    "print\n",
    "print \"logo o valor de h1[0] coincidentemente já está em %\"\n",
    "\n",
    "plt.hist(dadol2, bins=(0,10,20,30,40,50,60,70,80,90,100,110,120,130,140,150))\n",
    "plt.show()"
   ]
  },
  {
   "cell_type": "code",
   "execution_count": 120,
   "metadata": {
    "collapsed": false
   },
   "outputs": [
    {
     "name": "stdout",
     "output_type": "stream",
     "text": [
      "[ 1  1  0  0  3  2  2 13 16 11 13 17 13  4  4] valores com comprimento 15\n",
      "[  1.   1.   0.   0.   3.   2.   2.  13.  16.  11.  13.  17.  13.   4.   4.] valores em array com comprimento 15\n",
      "[   1.    2.    2.    2.    5.    7.    9.   22.   38.   49.   62.   79.\n",
      "   92.   96.  100.] valores acumulados com comprimento 15\n"
     ]
    },
    {
     "data": {
      "image/png": "[encoded data removed]",
      "text/plain": [
       "<matplotlib.figure.Figure at 0xb07244cc>"
      ]
     },
     "metadata": {},
     "output_type": "display_data"
    }
   ],
   "source": [
    "h1 = np.histogram(dadol2, bins=(0,10,20,30,40,50,60,70,80,90,100,110,120,130,140,150))\n",
    "print h1[0],\"valores com comprimento\",len(h1[0])\n",
    "\n",
    "h2 = np.array(h1[0],float)\n",
    "h3 = np.array(h1[1],float)\n",
    "\n",
    "print h2,\"valores em array com comprimento\",len(h1[0])\n",
    "h2 = np.cumsum(h2) # soma cumulativa\n",
    "print h2,\"valores acumulados com comprimento\",len(h1[0])\n",
    "\n",
    "plt.hist(dadol2, bins=(0,10,20,30,40,50,60,70,80,90,100,110,120,130,140,150), cumulative = True)\n",
    "plt.show()"
   ]
  },
  {
   "cell_type": "code",
   "execution_count": 121,
   "metadata": {
    "collapsed": false
   },
   "outputs": [
    {
     "name": "stdout",
     "output_type": "stream",
     "text": [
      "[   5.   15.   25.   35.   45.   55.   65.   75.   85.   95.  105.  115.\n",
      "  125.  135.  145.]\n"
     ]
    },
    {
     "data": {
      "image/png": "[encoded data removed]",
      "text/plain": [
       "<matplotlib.figure.Figure at 0xadb092cc>"
      ]
     },
     "metadata": {},
     "output_type": "display_data"
    }
   ],
   "source": [
    "V = []\n",
    "\n",
    "for i in range(len(h1[0])):\n",
    "    V0 = (h3[i+1] + h3[i])/2\n",
    "    V.append(V0)\n",
    "V = np.array(V,float)\n",
    "print V\n",
    "\n",
    "plt.plot(V,h2)\n",
    "plt.show()"
   ]
  },
  {
   "cell_type": "code",
   "execution_count": 122,
   "metadata": {
    "collapsed": false
   },
   "outputs": [
    {
     "data": {
      "image/png": "[encoded data removed]",
      "text/plain": [
       "<matplotlib.figure.Figure at 0xadaf74ac>"
      ]
     },
     "metadata": {},
     "output_type": "display_data"
    }
   ],
   "source": [
    "plt.plot(V,h2)\n",
    "plt.xscale('log')\n",
    "plt.show()"
   ]
  },
  {
   "cell_type": "code",
   "execution_count": 123,
   "metadata": {
    "collapsed": false
   },
   "outputs": [
    {
     "name": "stdout",
     "output_type": "stream",
     "text": [
      "97.55 e a media dos dados\n",
      "100.5 e a mediana dos dados\n",
      "0.0 | 145.0\n"
     ]
    }
   ],
   "source": [
    "# media   = np.mean()\n",
    "# mediana = np.median()\n",
    "\n",
    "import math\n",
    "\n",
    "m = np.mean(dadol2)\n",
    "print m,\"e a media dos dados\"\n",
    "M = np.median(dadol2)\n",
    "print M,\"e a mediana dos dados\"\n",
    "\n",
    "print min(dadol2),\"|\",max(dadol2)"
   ]
  },
  {
   "cell_type": "code",
   "execution_count": 124,
   "metadata": {
    "collapsed": false
   },
   "outputs": [
    {
     "name": "stdout",
     "output_type": "stream",
     "text": [
      "81.75\n",
      "100.5\n",
      "116.25\n"
     ]
    }
   ],
   "source": [
    "# quartile = np.percentile() 25% 50% e 75%\n",
    "\n",
    "Q1 = np.percentile(dadol2, 25)\n",
    "Q2 = np.percentile(dadol2, 50)\n",
    "Q3 = np.percentile(dadol2, 75)\n",
    "\n",
    "print Q1\n",
    "print Q2\n",
    "print Q3"
   ]
  },
  {
   "cell_type": "code",
   "execution_count": 125,
   "metadata": {
    "collapsed": false
   },
   "outputs": [
    {
     "name": "stdout",
     "output_type": "stream",
     "text": [
      "688.3875\n",
      "26.2371397069\n",
      "34.5\n"
     ]
    }
   ],
   "source": [
    "# Variancia = np.var(a, axis=None, dtype=None, out=None, ddof=0)\n",
    "# Desvio Padrao = np.std(a, axis=None, dtype=None, out=None, ddof=0)\n",
    "\n",
    "sigq = np.var(dadol2)\n",
    "print sigq\n",
    "\n",
    "sig = np.std(dadol2)\n",
    "print sig\n",
    "\n",
    "IQR = Q3-Q1 # Range Interquantil\n",
    "print IQR"
   ]
  },
  {
   "cell_type": "code",
   "execution_count": 127,
   "metadata": {
    "collapsed": false
   },
   "outputs": [
    {
     "name": "stdout",
     "output_type": "stream",
     "text": [
      "-0.778166630146\n",
      "0.268960940102\n"
     ]
    }
   ],
   "source": [
    "#Coeficiente de assimetria = scipy.stats.skew() -> Idica se os valores estão muito assimetricos\n",
    "\n",
    "CA = scs.skew(dadol2)\n",
    "print CA\n",
    "\n",
    "#Coeficiente de Variação = scipy.stats.mstats.variation() -> Indica se existem valores muitoerraticos\n",
    "\n",
    "CV = scsms.variation(dadol2)\n",
    "print CV"
   ]
  },
  {
   "cell_type": "code",
   "execution_count": null,
   "metadata": {
    "collapsed": true
   },
   "outputs": [],
   "source": []
  }
 ],
 "metadata": {
  "kernelspec": {
   "display_name": "Python 2",
   "language": "python",
   "name": "python2"
  },
  "language_info": {
   "codemirror_mode": {
    "name": "ipython",
    "version": 2
   },
   "file_extension": ".py",
   "mimetype": "text/x-python",
   "name": "python",
   "nbconvert_exporter": "python",
   "pygments_lexer": "ipython2",
   "version": "2.7.9"
  }
 },
 "nbformat": 4,
 "nbformat_minor": 0
}
